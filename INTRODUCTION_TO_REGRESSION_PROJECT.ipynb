{
  "nbformat": 4,
  "nbformat_minor": 0,
  "metadata": {
    "colab": {
      "provenance": []
    },
    "kernelspec": {
      "name": "python3",
      "display_name": "Python 3"
    },
    "language_info": {
      "name": "python"
    }
  },
  "cells": [
    {
      "cell_type": "markdown",
      "source": [
        "#Introduction to Regression Project"
      ],
      "metadata": {
        "id": "fDsWHPMAivAq"
      }
    },
    {
      "cell_type": "markdown",
      "source": [
        "##Problem Statement\n"
      ],
      "metadata": {
        "id": "Uoz-jQR7izFH"
      }
    },
    {
      "cell_type": "markdown",
      "source": [
        "Legacy plans has been used widely by Megaline subscribers. Megaline wants to develop a model that would analyze subscribers' behavior and recommend one of Megaline's newer plans: Smart or Ultra. You have access to behavior data about subscribers who have already switched to the new plans (from the project for the Statistical Data Analysis course). For this classification task, you need to develop a model that will pick the right plan. Since you’ve already performed the data preprocessing step, you can move straight to creating the model. Develop a model with the highest possible accuracy. In this project, the threshold for accuracy is 0.75. Check the accuracy using the test dataset."
      ],
      "metadata": {
        "id": "BHwjDZ6_i4bs"
      }
    },
    {
      "cell_type": "markdown",
      "source": [
        "## Data Importation"
      ],
      "metadata": {
        "id": "BZY7r_d7jF5k"
      }
    },
    {
      "cell_type": "code",
      "execution_count": 2,
      "metadata": {
        "id": "h7USyVrKiqYd",
        "colab": {
          "base_uri": "https://localhost:8080/",
          "height": 143
        },
        "outputId": "17ad8d56-8a22-44fa-c7ad-8a760433fda2"
      },
      "outputs": [
        {
          "output_type": "execute_result",
          "data": {
            "text/plain": [
              "   calls  minutes  messages   mb_used  is_ultra\n",
              "0   40.0   311.90      83.0  19915.42         0\n",
              "1   85.0   516.75      56.0  22696.96         0\n",
              "2   77.0   467.66      86.0  21060.45         0"
            ],
            "text/html": [
              "\n",
              "  <div id=\"df-8504c64b-6776-4799-8331-bdf9fd0af59e\">\n",
              "    <div class=\"colab-df-container\">\n",
              "      <div>\n",
              "<style scoped>\n",
              "    .dataframe tbody tr th:only-of-type {\n",
              "        vertical-align: middle;\n",
              "    }\n",
              "\n",
              "    .dataframe tbody tr th {\n",
              "        vertical-align: top;\n",
              "    }\n",
              "\n",
              "    .dataframe thead th {\n",
              "        text-align: right;\n",
              "    }\n",
              "</style>\n",
              "<table border=\"1\" class=\"dataframe\">\n",
              "  <thead>\n",
              "    <tr style=\"text-align: right;\">\n",
              "      <th></th>\n",
              "      <th>calls</th>\n",
              "      <th>minutes</th>\n",
              "      <th>messages</th>\n",
              "      <th>mb_used</th>\n",
              "      <th>is_ultra</th>\n",
              "    </tr>\n",
              "  </thead>\n",
              "  <tbody>\n",
              "    <tr>\n",
              "      <th>0</th>\n",
              "      <td>40.0</td>\n",
              "      <td>311.90</td>\n",
              "      <td>83.0</td>\n",
              "      <td>19915.42</td>\n",
              "      <td>0</td>\n",
              "    </tr>\n",
              "    <tr>\n",
              "      <th>1</th>\n",
              "      <td>85.0</td>\n",
              "      <td>516.75</td>\n",
              "      <td>56.0</td>\n",
              "      <td>22696.96</td>\n",
              "      <td>0</td>\n",
              "    </tr>\n",
              "    <tr>\n",
              "      <th>2</th>\n",
              "      <td>77.0</td>\n",
              "      <td>467.66</td>\n",
              "      <td>86.0</td>\n",
              "      <td>21060.45</td>\n",
              "      <td>0</td>\n",
              "    </tr>\n",
              "  </tbody>\n",
              "</table>\n",
              "</div>\n",
              "      <button class=\"colab-df-convert\" onclick=\"convertToInteractive('df-8504c64b-6776-4799-8331-bdf9fd0af59e')\"\n",
              "              title=\"Convert this dataframe to an interactive table.\"\n",
              "              style=\"display:none;\">\n",
              "        \n",
              "  <svg xmlns=\"http://www.w3.org/2000/svg\" height=\"24px\"viewBox=\"0 0 24 24\"\n",
              "       width=\"24px\">\n",
              "    <path d=\"M0 0h24v24H0V0z\" fill=\"none\"/>\n",
              "    <path d=\"M18.56 5.44l.94 2.06.94-2.06 2.06-.94-2.06-.94-.94-2.06-.94 2.06-2.06.94zm-11 1L8.5 8.5l.94-2.06 2.06-.94-2.06-.94L8.5 2.5l-.94 2.06-2.06.94zm10 10l.94 2.06.94-2.06 2.06-.94-2.06-.94-.94-2.06-.94 2.06-2.06.94z\"/><path d=\"M17.41 7.96l-1.37-1.37c-.4-.4-.92-.59-1.43-.59-.52 0-1.04.2-1.43.59L10.3 9.45l-7.72 7.72c-.78.78-.78 2.05 0 2.83L4 21.41c.39.39.9.59 1.41.59.51 0 1.02-.2 1.41-.59l7.78-7.78 2.81-2.81c.8-.78.8-2.07 0-2.86zM5.41 20L4 18.59l7.72-7.72 1.47 1.35L5.41 20z\"/>\n",
              "  </svg>\n",
              "      </button>\n",
              "      \n",
              "  <style>\n",
              "    .colab-df-container {\n",
              "      display:flex;\n",
              "      flex-wrap:wrap;\n",
              "      gap: 12px;\n",
              "    }\n",
              "\n",
              "    .colab-df-convert {\n",
              "      background-color: #E8F0FE;\n",
              "      border: none;\n",
              "      border-radius: 50%;\n",
              "      cursor: pointer;\n",
              "      display: none;\n",
              "      fill: #1967D2;\n",
              "      height: 32px;\n",
              "      padding: 0 0 0 0;\n",
              "      width: 32px;\n",
              "    }\n",
              "\n",
              "    .colab-df-convert:hover {\n",
              "      background-color: #E2EBFA;\n",
              "      box-shadow: 0px 1px 2px rgba(60, 64, 67, 0.3), 0px 1px 3px 1px rgba(60, 64, 67, 0.15);\n",
              "      fill: #174EA6;\n",
              "    }\n",
              "\n",
              "    [theme=dark] .colab-df-convert {\n",
              "      background-color: #3B4455;\n",
              "      fill: #D2E3FC;\n",
              "    }\n",
              "\n",
              "    [theme=dark] .colab-df-convert:hover {\n",
              "      background-color: #434B5C;\n",
              "      box-shadow: 0px 1px 3px 1px rgba(0, 0, 0, 0.15);\n",
              "      filter: drop-shadow(0px 1px 2px rgba(0, 0, 0, 0.3));\n",
              "      fill: #FFFFFF;\n",
              "    }\n",
              "  </style>\n",
              "\n",
              "      <script>\n",
              "        const buttonEl =\n",
              "          document.querySelector('#df-8504c64b-6776-4799-8331-bdf9fd0af59e button.colab-df-convert');\n",
              "        buttonEl.style.display =\n",
              "          google.colab.kernel.accessAllowed ? 'block' : 'none';\n",
              "\n",
              "        async function convertToInteractive(key) {\n",
              "          const element = document.querySelector('#df-8504c64b-6776-4799-8331-bdf9fd0af59e');\n",
              "          const dataTable =\n",
              "            await google.colab.kernel.invokeFunction('convertToInteractive',\n",
              "                                                     [key], {});\n",
              "          if (!dataTable) return;\n",
              "\n",
              "          const docLinkHtml = 'Like what you see? Visit the ' +\n",
              "            '<a target=\"_blank\" href=https://colab.research.google.com/notebooks/data_table.ipynb>data table notebook</a>'\n",
              "            + ' to learn more about interactive tables.';\n",
              "          element.innerHTML = '';\n",
              "          dataTable['output_type'] = 'display_data';\n",
              "          await google.colab.output.renderOutput(dataTable, element);\n",
              "          const docLink = document.createElement('div');\n",
              "          docLink.innerHTML = docLinkHtml;\n",
              "          element.appendChild(docLink);\n",
              "        }\n",
              "      </script>\n",
              "    </div>\n",
              "  </div>\n",
              "  "
            ]
          },
          "metadata": {},
          "execution_count": 2
        }
      ],
      "source": [
        "import pandas as pd\n",
        "\n",
        "# Dataset URL (CSV File): https://bit.ly/UsersBehaviourTelco\n",
        "\n",
        "megaline = pd.read_csv(\"https://bit.ly/UsersBehaviourTelco\")\n",
        "\n",
        "megaline.head(3)\n",
        "\n"
      ]
    },
    {
      "cell_type": "markdown",
      "source": [
        "##Data Exploration"
      ],
      "metadata": {
        "id": "ERAJHGwy730r"
      }
    },
    {
      "cell_type": "code",
      "source": [
        "#Getting the size of the dataset;\n",
        "megaline.shape"
      ],
      "metadata": {
        "colab": {
          "base_uri": "https://localhost:8080/"
        },
        "id": "j5G_XlsH89iL",
        "outputId": "7a7a0f3f-5c9e-4e3c-f648-65ceb55a7567"
      },
      "execution_count": 4,
      "outputs": [
        {
          "output_type": "execute_result",
          "data": {
            "text/plain": [
              "(3214, 5)"
            ]
          },
          "metadata": {},
          "execution_count": 4
        }
      ]
    },
    {
      "cell_type": "code",
      "source": [
        "# Getting the datasets;\n",
        "megaline.info()"
      ],
      "metadata": {
        "colab": {
          "base_uri": "https://localhost:8080/"
        },
        "id": "JYgMvuND9F1D",
        "outputId": "56eda685-a9c9-4e27-c2fd-365e5446435b"
      },
      "execution_count": 3,
      "outputs": [
        {
          "output_type": "stream",
          "name": "stdout",
          "text": [
            "<class 'pandas.core.frame.DataFrame'>\n",
            "RangeIndex: 3214 entries, 0 to 3213\n",
            "Data columns (total 5 columns):\n",
            " #   Column    Non-Null Count  Dtype  \n",
            "---  ------    --------------  -----  \n",
            " 0   calls     3214 non-null   float64\n",
            " 1   minutes   3214 non-null   float64\n",
            " 2   messages  3214 non-null   float64\n",
            " 3   mb_used   3214 non-null   float64\n",
            " 4   is_ultra  3214 non-null   int64  \n",
            "dtypes: float64(4), int64(1)\n",
            "memory usage: 125.7 KB\n"
          ]
        }
      ]
    },
    {
      "cell_type": "code",
      "source": [
        "#Checking the amount of data on each target;\n",
        "megaline['is_ultra'].value_counts()"
      ],
      "metadata": {
        "colab": {
          "base_uri": "https://localhost:8080/"
        },
        "id": "WwiVx7S39MYv",
        "outputId": "d120527b-2e90-47cf-d3ff-0a90e4501ae2"
      },
      "execution_count": 5,
      "outputs": [
        {
          "output_type": "execute_result",
          "data": {
            "text/plain": [
              "0    2229\n",
              "1     985\n",
              "Name: is_ultra, dtype: int64"
            ]
          },
          "metadata": {},
          "execution_count": 5
        }
      ]
    },
    {
      "cell_type": "code",
      "source": [
        "# Checking those promoted and those not as a percentage\n",
        "print('1. Smart plans users:  ' \n",
        "      + str(round(((megaline[\"is_ultra\"].isin([0]).sum())/megaline.shape[0])*100,2)) + ' %')\n",
        "print('2. Smart plans users on Ultra plan: ' \n",
        "      + str(round(((megaline[\"is_ultra\"].isin([1]).sum())/megaline.shape[0])*100,2)) + ' %')"
      ],
      "metadata": {
        "colab": {
          "base_uri": "https://localhost:8080/"
        },
        "id": "4Z048spt9T67",
        "outputId": "cce4166d-f45f-451a-afeb-f062b1eefdc9"
      },
      "execution_count": 7,
      "outputs": [
        {
          "output_type": "stream",
          "name": "stdout",
          "text": [
            "1. Smart plans users:  69.35 %\n",
            "2. Smart plans users on Ultra plan: 30.65 %\n"
          ]
        }
      ]
    },
    {
      "cell_type": "markdown",
      "source": [
        "##Data Cleaning "
      ],
      "metadata": {
        "id": "m0nPCs3W78lK"
      }
    },
    {
      "cell_type": "markdown",
      "source": [
        "Data cleaning has already been done for this data set as per the instructions\n",
        "\n",
        "*Since you’ve already performed the data preprocessing step, you can move straight to creating the model*"
      ],
      "metadata": {
        "id": "_yRdfdkC7_YL"
      }
    },
    {
      "cell_type": "markdown",
      "source": [
        "##Data Preparation"
      ],
      "metadata": {
        "id": "dAMkXPqa8PDk"
      }
    },
    {
      "cell_type": "code",
      "source": [
        "# Check correlation of features and target;\n",
        "\n",
        "import matplotlib.pyplot as plt\n",
        "import seaborn as sns\n",
        "\n",
        "features = megaline.columns\n",
        "corr_= megaline[features].corr()\n",
        "plt.figure(figsize=(6,4))\n",
        "sns.heatmap(corr_, annot=True, fmt = \".2f\", cmap =\"Greens\");"
      ],
      "metadata": {
        "colab": {
          "base_uri": "https://localhost:8080/",
          "height": 270
        },
        "id": "ijJ3Vmxf9_cx",
        "outputId": "81af53d6-f514-451e-b660-addf8b641700"
      },
      "execution_count": 12,
      "outputs": [
        {
          "output_type": "display_data",
          "data": {
            "text/plain": [
              "<Figure size 432x288 with 2 Axes>"
            ],
            "image/png": "[encoded data removed]"
          },
          "metadata": {
            "needs_background": "light"
          }
        }
      ]
    },
    {
      "cell_type": "code",
      "source": [],
      "metadata": {
        "id": "bKA0-9VZ8BLZ"
      },
      "execution_count": null,
      "outputs": []
    },
    {
      "cell_type": "code",
      "source": [
        "# Plot Histogram for features to show relationship between them and target: \n",
        "for feature in features[:-1]:\n",
        "  plt.hist(megaline[megaline['is_ultra']==1][feature], color= 'blue', alpha = 0.7, label = 'Ultra', density=True)\n",
        "  plt.hist(megaline[megaline['is_ultra']==0][feature], color= 'green', alpha = 0.7, label = 'Smart', density=True)\n",
        "  plt.title(feature)\n",
        "  plt.ylabel('Probability')\n",
        "  plt.xlabel(feature)\n",
        "  plt.legend()\n",
        "  plt.show()"
      ],
      "metadata": {
        "colab": {
          "base_uri": "https://localhost:8080/",
          "height": 1000
        },
        "id": "ZksSBznv-pXx",
        "outputId": "732f229b-984c-43ba-f57c-13e82912b7da"
      },
      "execution_count": 13,
      "outputs": [
        {
          "output_type": "display_data",
          "data": {
            "text/plain": [
              "<Figure size 432x288 with 1 Axes>"
            ],
            "image/png": "[encoded data removed]"
          },
          "metadata": {
            "needs_background": "light"
          }
        },
        {
          "output_type": "display_data",
          "data": {
            "text/plain": [
              "<Figure size 432x288 with 1 Axes>"
            ],
            "image/png": "[encoded data removed]"
          },
          "metadata": {
            "needs_background": "light"
          }
        },
        {
          "output_type": "display_data",
          "data": {
            "text/plain": [
              "<Figure size 432x288 with 1 Axes>"
            ],
            "image/png": "[encoded data removed]"
          },
          "metadata": {
            "needs_background": "light"
          }
        },
        {
          "output_type": "display_data",
          "data": {
            "text/plain": [
              "<Figure size 432x288 with 1 Axes>"
            ],
            "image/png": "[encoded data removed]"
          },
          "metadata": {
            "needs_background": "light"
          }
        }
      ]
    },
    {
      "cell_type": "code",
      "source": [
        "# Split the source data into a training set, a validation set, and a test set;\n",
        "from sklearn.model_selection import train_test_split"
      ],
      "metadata": {
        "id": "xHiHO5X17f5A"
      },
      "execution_count": 14,
      "outputs": []
    },
    {
      "cell_type": "code",
      "source": [
        "features = megaline.drop(['is_ultra'], axis=1)\n",
        "target = megaline['is_ultra']\n",
        "\n",
        "# set aside 20% of train and test data for evaluation\n",
        "X_train, X_test, Y_train, Y_test = train_test_split(features, target, test_size=0.2, random_state = 54321)\n",
        "\n",
        "# Use the same function above for the validation set\n",
        "X_train, X_val, Y_train, Y_val = train_test_split(X_train, Y_train, test_size=0.25, random_state= 54321) # 0.25 x 0.8 = 0.2\n",
        "\n",
        "# Check the shape of our new datasets\n",
        "\n",
        "print(f\"X_train shape: {X_train.shape}\")\n",
        "print(f\"X_test shape: {X_test.shape}\")\n",
        "print(f\"Y_train shape: {Y_train.shape}\")\n",
        "print(f\"Y_test shape: {Y_test.shape}\")\n",
        "print(f\"X_val shape: {Y_train.shape}\")\n",
        "print(f\"Y_val shape: {Y_test.shape}\")"
      ],
      "metadata": {
        "colab": {
          "base_uri": "https://localhost:8080/"
        },
        "id": "H192ijL0_Luc",
        "outputId": "b022bf54-2926-4336-a852-0400772849dd"
      },
      "execution_count": 15,
      "outputs": [
        {
          "output_type": "stream",
          "name": "stdout",
          "text": [
            "X_train shape: (1928, 4)\n",
            "X_test shape: (643, 4)\n",
            "Y_train shape: (1928,)\n",
            "Y_test shape: (643,)\n",
            "X_val shape: (1928,)\n",
            "Y_val shape: (643,)\n"
          ]
        }
      ]
    },
    {
      "cell_type": "markdown",
      "source": [
        "##Data Modeling"
      ],
      "metadata": {
        "id": "tas4BRmU8cUE"
      }
    },
    {
      "cell_type": "code",
      "source": [
        "# 3. Investigate the quality of different models by changing hyperparameters. \n",
        "#    Briefly describe the findings of the study."
      ],
      "metadata": {
        "id": "pKVqwn2A7fyT"
      },
      "execution_count": null,
      "outputs": []
    },
    {
      "cell_type": "code",
      "source": [
        "from sklearn.tree import DecisionTreeRegressor, DecisionTreeClassifier\n",
        "# RandomForestRegressor and is located in sklearn.ensemble module.\n",
        "from sklearn.ensemble import RandomForestClassifier\n",
        "from sklearn.linear_model import LogisticRegression\n",
        "\n",
        "dec_regressor = DecisionTreeClassifier(random_state=27)\n",
        "log_regressor = LogisticRegression()\n",
        "fst_regressor = RandomForestClassifier(random_state= 14)\n",
        "\n",
        "\n",
        "dec_regressor.fit(X_train, Y_train)\n",
        "log_regressor.fit(X_train, Y_train)\n",
        "fst_regressor.fit(X_train, Y_train)\n",
        "\n",
        "# Making Predictions using the validation set\n",
        "dec_y_pred = dec_regressor.predict(X_val)\n",
        "log_y_pred = log_regressor.predict(X_val)\n",
        "fst_y_pred = fst_regressor.predict(X_val)\n",
        "\n",
        "from sklearn.metrics import mean_squared_error\n",
        "# Finally, evaluating our models \n",
        "print(f'Decision Tree RMSE: {mean_squared_error(Y_val, dec_y_pred, squared=False)}')\n",
        "print(f'Linear Regression RMSE:{mean_squared_error(Y_val, log_y_pred, squared=False)}')\n",
        "print(f'Random Forest Classifier RMSE: {mean_squared_error(Y_val, fst_y_pred, squared=False)}')\n",
        "\n"
      ],
      "metadata": {
        "id": "c0912ozZCMBC",
        "colab": {
          "base_uri": "https://localhost:8080/"
        },
        "outputId": "70ef7fb6-17d0-4c85-a259-90dfe6354423"
      },
      "execution_count": 16,
      "outputs": [
        {
          "output_type": "stream",
          "name": "stdout",
          "text": [
            "Decision Tree RMSE: 0.5050291400982393\n",
            "Linear Regression RMSE:0.5156945821140386\n",
            "Random Forest Classifier RMSE: 0.4136098341043249\n"
          ]
        }
      ]
    },
    {
      "cell_type": "code",
      "source": [
        "from sklearn.metrics import classification_report\n",
        "# print classification report for Decision Tree Regressor\n",
        "print(f'DecisionTreeClassifier classification report:\\n {classification_report(Y_test, dec_y_pred)}')"
      ],
      "metadata": {
        "colab": {
          "base_uri": "https://localhost:8080/"
        },
        "id": "GOvWnAN3HbJK",
        "outputId": "97fa659c-86c2-41a4-9c5f-1742dd7b06e2"
      },
      "execution_count": 17,
      "outputs": [
        {
          "output_type": "stream",
          "name": "stdout",
          "text": [
            "DecisionTreeClassifier classification report:\n",
            "               precision    recall  f1-score   support\n",
            "\n",
            "           0       0.67      0.70      0.68       427\n",
            "           1       0.35      0.32      0.34       216\n",
            "\n",
            "    accuracy                           0.57       643\n",
            "   macro avg       0.51      0.51      0.51       643\n",
            "weighted avg       0.56      0.57      0.57       643\n",
            "\n"
          ]
        }
      ]
    },
    {
      "cell_type": "code",
      "source": [
        "# print classification report for Logistic Regression\n",
        "print(f'Logistic Regression classification report:\\n {classification_report(Y_test, log_y_pred)}')"
      ],
      "metadata": {
        "colab": {
          "base_uri": "https://localhost:8080/"
        },
        "id": "pJgGr8lWHeTj",
        "outputId": "f0fc0cee-c616-4a0a-f8f2-e90cc509f8ec"
      },
      "execution_count": 18,
      "outputs": [
        {
          "output_type": "stream",
          "name": "stdout",
          "text": [
            "Logistic Regression classification report:\n",
            "               precision    recall  f1-score   support\n",
            "\n",
            "           0       0.66      0.97      0.79       427\n",
            "           1       0.33      0.03      0.05       216\n",
            "\n",
            "    accuracy                           0.65       643\n",
            "   macro avg       0.50      0.50      0.42       643\n",
            "weighted avg       0.55      0.65      0.54       643\n",
            "\n"
          ]
        }
      ]
    },
    {
      "cell_type": "code",
      "source": [
        "# print classification report for Random Forest Classifier \n",
        "print(f'Random Forest Classifier classification report:\\n {classification_report(Y_test, fst_y_pred)}')"
      ],
      "metadata": {
        "colab": {
          "base_uri": "https://localhost:8080/"
        },
        "id": "265oKRnyHpQ1",
        "outputId": "d0675da3-214c-42fb-b380-5a1b1077de4d"
      },
      "execution_count": 19,
      "outputs": [
        {
          "output_type": "stream",
          "name": "stdout",
          "text": [
            "Random Forest Classifier classification report:\n",
            "               precision    recall  f1-score   support\n",
            "\n",
            "           0       0.67      0.77      0.71       427\n",
            "           1       0.34      0.24      0.28       216\n",
            "\n",
            "    accuracy                           0.59       643\n",
            "   macro avg       0.51      0.50      0.50       643\n",
            "weighted avg       0.56      0.59      0.57       643\n",
            "\n"
          ]
        }
      ]
    },
    {
      "cell_type": "markdown",
      "source": [
        "Model Perfomance Accuracy:\n",
        "\n",
        "1. DecisionTreeClassifier -  0.57\n",
        "\n",
        "2. Logistic Regression - 0.65\n",
        "\n",
        "3. Random Forest Classifier -  0.59 "
      ],
      "metadata": {
        "id": "f-rZ4YtFIsT9"
      }
    },
    {
      "cell_type": "markdown",
      "source": [
        "###Model Improvement with Hyperparameters"
      ],
      "metadata": {
        "id": "t2OJWfOiHtv3"
      }
    },
    {
      "cell_type": "code",
      "source": [
        "##Finding the best tree depth with best accuracy;\n",
        "from sklearn.metrics import accuracy_score\n",
        "best_score = 0\n",
        "for depth in range(1,10):\n",
        "  model = DecisionTreeClassifier(max_depth=depth, random_state=27)\n",
        "  model.fit(X_test, Y_test)\n",
        "  pred = model.predict(X_val)\n",
        "  score = accuracy_score(Y_val, pred)\n",
        "  if score > best_score: best_score = score\n",
        "print(f'Tree accuracy with Validation: {best_score} at depth of: {depth}')"
      ],
      "metadata": {
        "colab": {
          "base_uri": "https://localhost:8080/"
        },
        "id": "ZbIuzFdEHsYs",
        "outputId": "c521c266-4527-4efa-d3b3-b99613359cdd"
      },
      "execution_count": 20,
      "outputs": [
        {
          "output_type": "stream",
          "name": "stdout",
          "text": [
            "Tree accuracy with Validation: 0.807153965785381 at depth of: 9\n"
          ]
        }
      ]
    },
    {
      "cell_type": "code",
      "source": [
        "#Finding the best estimator for random forest with best accuracy;\n",
        "best_score = 0\n",
        "for n in range(1,20):\n",
        "  model = RandomForestClassifier(n_estimators=n, random_state=12345)\n",
        "  model.fit(X_train, Y_train)\n",
        "  score = model.score(X_val, Y_val)\n",
        "  if score > best_score: best_score = score\n",
        "print(f'Forest accuracy with Validation: {best_score} for n trees: {n}')"
      ],
      "metadata": {
        "colab": {
          "base_uri": "https://localhost:8080/"
        },
        "id": "nvYzrc0ZNOZS",
        "outputId": "f0d2df16-60cc-430a-bfe5-6c4f1ef06c0d"
      },
      "execution_count": 21,
      "outputs": [
        {
          "output_type": "stream",
          "name": "stdout",
          "text": [
            "Forest accuracy with Validation: 0.8242612752721618 for n trees: 19\n"
          ]
        }
      ]
    },
    {
      "cell_type": "code",
      "source": [
        "# Retrain our models with hyper parameteres; \n",
        "dec_regressor = DecisionTreeClassifier(random_state=27,max_depth = 9 )\n",
        "log_regressor = LogisticRegression()\n",
        "fst_regressor = RandomForestClassifier(random_state= 14, n_estimators = 19)"
      ],
      "metadata": {
        "id": "hc8zVs3GOmhC"
      },
      "execution_count": 22,
      "outputs": []
    },
    {
      "cell_type": "code",
      "source": [
        "dec_regressor.fit(X_train, Y_train)\n",
        "log_regressor.fit(X_train, Y_train)\n",
        "fst_regressor.fit(X_train, Y_train)\n"
      ],
      "metadata": {
        "colab": {
          "base_uri": "https://localhost:8080/"
        },
        "id": "zrrGiawxO48e",
        "outputId": "e503c114-ef8a-48fd-90bf-996ca02a8336"
      },
      "execution_count": 23,
      "outputs": [
        {
          "output_type": "execute_result",
          "data": {
            "text/plain": [
              "RandomForestClassifier(n_estimators=19, random_state=14)"
            ]
          },
          "metadata": {},
          "execution_count": 23
        }
      ]
    },
    {
      "cell_type": "markdown",
      "source": [
        "##Model Evaluation"
      ],
      "metadata": {
        "id": "SMzq23uy8n1R"
      }
    },
    {
      "cell_type": "code",
      "source": [
        "# 4. Check the quality of the model using the test set;\n",
        "\n",
        "# Making Predictions using the test set\n",
        "dec_y_pred = dec_regressor.predict(X_test)\n",
        "log_y_pred = log_regressor.predict(X_test)\n",
        "fst_y_pred = fst_regressor.predict(X_test)\n",
        "\n",
        "\n",
        "# evaluating our models \n",
        "print(f'Decision Tree RMSE: {mean_squared_error(Y_test, dec_y_pred, squared=False)}')\n",
        "print(f'Linear Regression RMSE:{mean_squared_error(Y_test, log_y_pred, squared=False)}')\n",
        "print(f'Random Forest Classifier RMSE: {mean_squared_error(Y_test, fst_y_pred, squared=False)}')"
      ],
      "metadata": {
        "id": "4UXHq4EE7fkE",
        "colab": {
          "base_uri": "https://localhost:8080/"
        },
        "outputId": "454ed9c4-d0be-4cd5-ea4b-d942ddb746da"
      },
      "execution_count": 24,
      "outputs": [
        {
          "output_type": "stream",
          "name": "stdout",
          "text": [
            "Decision Tree RMSE: 0.4877982399123497\n",
            "Linear Regression RMSE:0.5714841119420357\n",
            "Random Forest Classifier RMSE: 0.4748741340974856\n"
          ]
        }
      ]
    },
    {
      "cell_type": "code",
      "source": [
        "from sklearn.metrics import classification_report\n",
        "# print classification report for Decision Tree Classifier \n",
        "print(f'DecisionTreeClassifier classification report:\\n {classification_report(Y_test, dec_y_pred)}')"
      ],
      "metadata": {
        "colab": {
          "base_uri": "https://localhost:8080/"
        },
        "id": "2hQzLlZc_wWI",
        "outputId": "8bdcc4dd-1d2c-4237-a7c6-f8cb53eb6fb5"
      },
      "execution_count": 25,
      "outputs": [
        {
          "output_type": "stream",
          "name": "stdout",
          "text": [
            "DecisionTreeClassifier classification report:\n",
            "               precision    recall  f1-score   support\n",
            "\n",
            "           0       0.76      0.93      0.84       427\n",
            "           1       0.76      0.43      0.55       216\n",
            "\n",
            "    accuracy                           0.76       643\n",
            "   macro avg       0.76      0.68      0.69       643\n",
            "weighted avg       0.76      0.76      0.74       643\n",
            "\n"
          ]
        }
      ]
    },
    {
      "cell_type": "code",
      "source": [
        "# Print classification report for Logistic Regression;\n",
        "print(f'Logistic Regression classification report:\\n {classification_report(Y_test, log_y_pred)}')"
      ],
      "metadata": {
        "colab": {
          "base_uri": "https://localhost:8080/"
        },
        "id": "NOGVTQecAjjN",
        "outputId": "109bfaaa-3800-4d13-85c4-209de3243e8f"
      },
      "execution_count": 26,
      "outputs": [
        {
          "output_type": "stream",
          "name": "stdout",
          "text": [
            "Logistic Regression classification report:\n",
            "               precision    recall  f1-score   support\n",
            "\n",
            "           0       0.67      0.98      0.80       427\n",
            "           1       0.65      0.06      0.11       216\n",
            "\n",
            "    accuracy                           0.67       643\n",
            "   macro avg       0.66      0.52      0.46       643\n",
            "weighted avg       0.67      0.67      0.57       643\n",
            "\n"
          ]
        }
      ]
    },
    {
      "cell_type": "code",
      "source": [
        "# Print classification report for Random Forest Regressor;\n",
        "print(f'Random Forest Classifier classification report:\\n {classification_report(Y_test, fst_y_pred)}')"
      ],
      "metadata": {
        "colab": {
          "base_uri": "https://localhost:8080/"
        },
        "id": "fN2zDUTUEa-s",
        "outputId": "6b50ef0c-0224-4afd-bb86-a4915f806a1a"
      },
      "execution_count": 27,
      "outputs": [
        {
          "output_type": "stream",
          "name": "stdout",
          "text": [
            "Random Forest Classifier classification report:\n",
            "               precision    recall  f1-score   support\n",
            "\n",
            "           0       0.78      0.92      0.84       427\n",
            "           1       0.75      0.50      0.60       216\n",
            "\n",
            "    accuracy                           0.77       643\n",
            "   macro avg       0.77      0.71      0.72       643\n",
            "weighted avg       0.77      0.77      0.76       643\n",
            "\n"
          ]
        }
      ]
    },
    {
      "cell_type": "markdown",
      "source": [
        "##Findings and Recommendations"
      ],
      "metadata": {
        "id": "K6SVlOn68vLH"
      }
    },
    {
      "cell_type": "markdown",
      "source": [
        "# Model acuracy score after hyperparameter tunning;\n",
        "\n",
        "1. DecisionTreeClassifier - 0.76 \n",
        "\n",
        "2. Logistic Regression  - 0.67\n",
        "\n",
        "3. Random Forest Classifier - 0.77\n",
        "\n",
        "From the above scores it is possible to predict the plan of customers as to wether they are on smart or ultra accuracy.\n",
        "Random Forest and Decision Tree performance was good therefore they can be used by the customer."
      ],
      "metadata": {
        "id": "OObHmRliPIcT"
      }
    }
  ]
}